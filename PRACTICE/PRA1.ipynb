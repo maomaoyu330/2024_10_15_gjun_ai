{
 "cells": [
  {
   "cell_type": "code",
   "execution_count": null,
   "metadata": {},
   "outputs": [
    {
     "name": "stdout",
     "output_type": "stream",
     "text": [
      "公斤轉換為磅\n"
     ]
    }
   ],
   "source": [
    "# 1公斤=2.20426磅\n",
    "print(\"公斤轉換為磅\")\n",
    "kilograms = float(input(\"請輸入公斤:\"))\n",
    "pounds = kilograms * 2.20426\n",
    "print(f'{kilograms}公斤 = {pounds:.2f}磅')\n"
   ]
  },
  {
   "cell_type": "code",
   "execution_count": null,
   "metadata": {},
   "outputs": [
    {
     "name": "stdout",
     "output_type": "stream",
     "text": [
      "磅轉換為公斤\n",
      "23.0磅 = 10.43公斤\n"
     ]
    }
   ],
   "source": [
    "# 1公斤=2.20426磅\n",
    "print(\"磅轉換為公斤\")\n",
    "pounds = float(input(\"請輸入磅:\"))\n",
    "kilograms = pounds / 2.20426\n",
    "print(f'{pounds}磅 = {kilograms:.2f}公斤')"
   ]
  },
  {
   "cell_type": "code",
   "execution_count": null,
   "metadata": {},
   "outputs": [],
   "source": []
  }
 ],
 "metadata": {
  "kernelspec": {
   "display_name": "Python 3",
   "language": "python",
   "name": "python3"
  },
  "language_info": {
   "codemirror_mode": {
    "name": "ipython",
    "version": 3
   },
   "file_extension": ".py",
   "mimetype": "text/x-python",
   "name": "python",
   "nbconvert_exporter": "python",
   "pygments_lexer": "ipython3",
   "version": "3.10.15"
  }
 },
 "nbformat": 4,
 "nbformat_minor": 2
}
