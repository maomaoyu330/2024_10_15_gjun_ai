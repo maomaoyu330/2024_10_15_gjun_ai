{
 "cells": [
  {
   "cell_type": "code",
   "execution_count": 10,
   "metadata": {},
   "outputs": [
    {
     "name": "stdout",
     "output_type": "stream",
     "text": [
      "輸入的格式錯誤,請檢查\n"
     ]
    }
   ],
   "source": [
    "#BMI計算機\n",
    "try:\n",
    "    height = eval(input(\"請輸入身高(cm)\"))\n",
    "    weight = eval(input(\"請輸入體重(kg)\"))\n",
    "    BMI = weight/((height/100)**2)\n",
    "    print(f\"請輸入身高(cm):{height}\")\n",
    "    print(f\"請輸入體重(kg):{weight}\")\n",
    "    print(f\"您的BMI值是:{BMI:.1f}\")\n",
    "    if(BMI >= 35):\n",
    "        print(\"您的體重:重度肥胖\")\n",
    "    elif(BMI >= 30):\n",
    "        print(\"您的體重:中度肥胖\")\n",
    "    elif(BMI >= 27):\n",
    "        print(\"您的體重:輕度肥胖\")\n",
    "    elif(BMI >= 24):\n",
    "        print(\"您的體重:過重\")\n",
    "    elif(BMI >= 18.5):\n",
    "        print(\"您的體重:正常範圍\")\n",
    "    else:\n",
    "        print(\"您的體重:體重過輕\") \n",
    "except SyntaxError:\n",
    "        print(\"輸入的格式錯誤,請檢查\")                    \n",
    "except Exception:\n",
    "        print(\"不知名錯誤,請回報\")"
   ]
  }
 ],
 "metadata": {
  "kernelspec": {
   "display_name": "Python 3",
   "language": "python",
   "name": "python3"
  },
  "language_info": {
   "codemirror_mode": {
    "name": "ipython",
    "version": 3
   },
   "file_extension": ".py",
   "mimetype": "text/x-python",
   "name": "python",
   "nbconvert_exporter": "python",
   "pygments_lexer": "ipython3",
   "version": "3.10.15"
  }
 },
 "nbformat": 4,
 "nbformat_minor": 2
}
